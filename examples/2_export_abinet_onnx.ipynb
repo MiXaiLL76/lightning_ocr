{
 "cells": [
  {
   "cell_type": "code",
   "execution_count": 1,
   "metadata": {},
   "outputs": [],
   "source": [
    "import sys\n",
    "\n",
    "sys.path.append(\"../\")"
   ]
  },
  {
   "cell_type": "code",
   "execution_count": 2,
   "metadata": {},
   "outputs": [],
   "source": [
    "from lightning_ocr.models import ABINetVision\n",
    "\n",
    "model = ABINetVision.load_from_folder(\"checkpoints/abinet\").eval()"
   ]
  },
  {
   "cell_type": "code",
   "execution_count": null,
   "metadata": {},
   "outputs": [],
   "source": [
    "from PIL import Image\n",
    "\n",
    "pillow_image = Image.open(\"./datasets/MNIST/item_0.jpg\").convert(\"RGB\")\n",
    "pillow_image"
   ]
  },
  {
   "cell_type": "code",
   "execution_count": null,
   "metadata": {},
   "outputs": [],
   "source": [
    "model.predict(pillow_image)"
   ]
  },
  {
   "cell_type": "code",
   "execution_count": null,
   "metadata": {},
   "outputs": [],
   "source": [
    "model.to_onnx(\"abinet.onnx\")"
   ]
  },
  {
   "cell_type": "code",
   "execution_count": null,
   "metadata": {},
   "outputs": [],
   "source": [
    "from lightning_ocr.onnx.abinet import ABINetVisionONNX\n",
    "\n",
    "mgp_str_onnx_model = ABINetVisionONNX(\"checkpoints/abinet\", \"abinet.onnx\")\n",
    "mgp_str_onnx_model.predict([Image.open(f\"./datasets/MNIST/item_{i}.jpg\") for i in range(3)], True)"
   ]
  }
 ],
 "metadata": {
  "kernelspec": {
   "display_name": "Python 3",
   "language": "python",
   "name": "python3"
  },
  "language_info": {
   "codemirror_mode": {
    "name": "ipython",
    "version": 3
   },
   "file_extension": ".py",
   "mimetype": "text/x-python",
   "name": "python",
   "nbconvert_exporter": "python",
   "pygments_lexer": "ipython3",
   "version": "3.10.12"
  }
 },
 "nbformat": 4,
 "nbformat_minor": 2
}
