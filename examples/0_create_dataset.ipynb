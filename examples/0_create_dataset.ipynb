{
 "cells": [
  {
   "cell_type": "markdown",
   "metadata": {},
   "source": [
    "## Create example MNIST dataset"
   ]
  },
  {
   "cell_type": "code",
   "execution_count": 1,
   "metadata": {},
   "outputs": [],
   "source": [
    "import torchvision"
   ]
  },
  {
   "cell_type": "code",
   "execution_count": 2,
   "metadata": {},
   "outputs": [],
   "source": [
    "mnist_dataset = torchvision.datasets.MNIST(\n",
    "    \"./datasets/MNIST\", download=True, train=True\n",
    ")"
   ]
  },
  {
   "cell_type": "code",
   "execution_count": null,
   "metadata": {},
   "outputs": [],
   "source": [
    "import tqdm\n",
    "import json\n",
    "import os\n",
    "import numpy as np\n",
    "from PIL import Image\n",
    "import matplotlib.pyplot as plt\n",
    "\n",
    "min_string_length = 4\n",
    "max_string_length = 8\n",
    "ann_jsonl_file = \"./datasets/MNIST/ann_file.json\"\n",
    "\n",
    "with open(ann_jsonl_file, \"w\") as fd:\n",
    "    fd.write(\"\")\n",
    "\n",
    "_text = \"\"\n",
    "_images = []\n",
    "show_first = True\n",
    "idx = 0\n",
    "for pillow_image, label in tqdm.tqdm(mnist_dataset, total=len(mnist_dataset)):\n",
    "    _text += str(label)\n",
    "    _images.append(np.array(pillow_image.convert(\"RGB\")))\n",
    "    if len(_text) >= np.random.randint(min_string_length, max_string_length):\n",
    "        if show_first:\n",
    "            plt.title(_text)\n",
    "            plt.imshow(np.concatenate(_images, axis=1))\n",
    "            plt.show()\n",
    "            show_first = False\n",
    "\n",
    "        Image.fromarray(np.concatenate(_images, axis=1)).save(\n",
    "            os.path.join(\"./datasets/MNIST/\", f\"item_{idx}.jpg\")\n",
    "        )\n",
    "\n",
    "        with open(ann_jsonl_file, \"a\") as fd:\n",
    "            fd.write(\n",
    "                json.dumps(\n",
    "                    {\n",
    "                        \"filename\": f\"item_{idx}.jpg\",\n",
    "                        \"text\": str(_text),\n",
    "                    }\n",
    "                )\n",
    "            )\n",
    "            fd.write(\"\\n\")\n",
    "\n",
    "        _text = \"\"\n",
    "        _images = []\n",
    "        idx += 1"
   ]
  },
  {
   "cell_type": "code",
   "execution_count": 4,
   "metadata": {},
   "outputs": [],
   "source": [
    "import sys\n",
    "\n",
    "sys.path.append(\"../\")\n",
    "\n",
    "from lightning_ocr.datasets import RecogTextDataset\n",
    "\n",
    "dataset = RecogTextDataset(\n",
    "    data_root=\"./datasets/MNIST/\",\n",
    "    ann_file=\"ann_file.json\",\n",
    "    pipeline=[],\n",
    ")"
   ]
  },
  {
   "cell_type": "code",
   "execution_count": null,
   "metadata": {},
   "outputs": [],
   "source": [
    "for item in dataset:\n",
    "    RecogTextDataset.visualize_dataset(item, show=True)\n",
    "    break"
   ]
  },
  {
   "cell_type": "code",
   "execution_count": null,
   "metadata": {},
   "outputs": [],
   "source": []
  }
 ],
 "metadata": {
  "kernelspec": {
   "display_name": "Python 3",
   "language": "python",
   "name": "python3"
  },
  "language_info": {
   "codemirror_mode": {
    "name": "ipython",
    "version": 3
   },
   "file_extension": ".py",
   "mimetype": "text/x-python",
   "name": "python",
   "nbconvert_exporter": "python",
   "pygments_lexer": "ipython3",
   "version": "3.10.12"
  }
 },
 "nbformat": 4,
 "nbformat_minor": 2
}
