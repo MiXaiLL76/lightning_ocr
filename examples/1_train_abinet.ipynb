{
 "cells": [
  {
   "cell_type": "code",
   "execution_count": 1,
   "metadata": {},
   "outputs": [],
   "source": [
    "import sys\n",
    "\n",
    "sys.path.append(\"../\")"
   ]
  },
  {
   "cell_type": "code",
   "execution_count": 10,
   "metadata": {},
   "outputs": [],
   "source": [
    "import os\n",
    "import copy\n",
    "from lightning.pytorch.callbacks import ModelCheckpoint\n",
    "from lightning.pytorch.loggers import TensorBoardLogger\n",
    "from lightning_ocr.models import ABINetVision\n",
    "from lightning_ocr.datasets import RecogTextDataset, RecogTextDataModule\n",
    "from sklearn.model_selection import train_test_split\n",
    "import albumentations as A\n",
    "import lightning as L"
   ]
  },
  {
   "cell_type": "code",
   "execution_count": 7,
   "metadata": {},
   "outputs": [],
   "source": [
    "# ENV\n",
    "os.environ[\"TOKENIZERS_PARALLELISM\"] = \"true\"\n",
    "\n",
    "batch_size = 8\n",
    "\n",
    "config = {\n",
    "    \"max_seq_len\": 12,\n",
    "    \"tokenizer\": {\n",
    "        \"dict_list\": list(\"0123456789.\"),\n",
    "    },\n",
    "}"
   ]
  },
  {
   "cell_type": "code",
   "execution_count": 4,
   "metadata": {},
   "outputs": [],
   "source": [
    "# MODEL\n",
    "\n",
    "model = ABINetVision(config)"
   ]
  },
  {
   "cell_type": "code",
   "execution_count": 5,
   "metadata": {},
   "outputs": [],
   "source": [
    "# DATASETS\n",
    "\n",
    "train_dataset = RecogTextDataset(\n",
    "    data_root=\"./datasets/MNIST/\",\n",
    "    ann_file=\"ann_file.json\",\n",
    "    pipeline=model.load_train_pipeline(),\n",
    ")\n",
    "\n",
    "TRAIN, TEST = train_test_split(train_dataset.data_list, test_size=0.2, random_state=42)\n",
    "\n",
    "test_dataset = copy.deepcopy(train_dataset)\n",
    "test_dataset.data_list = TEST\n",
    "test_dataset.transform = A.Compose(model.load_test_pipeline())\n",
    "train_dataset.data_list = TRAIN"
   ]
  },
  {
   "cell_type": "code",
   "execution_count": null,
   "metadata": {},
   "outputs": [],
   "source": [
    "# CONFIG TRANER\n",
    "\n",
    "log_every_n_steps = 50\n",
    "if len(train_dataset) // batch_size < 50:\n",
    "    log_every_n_steps = 5\n",
    "\n",
    "checkpoint_callback = ModelCheckpoint(\n",
    "    dirpath=\"./checkpoints/abinet\",\n",
    "    filename=\"model-{epoch:02d}-loss-{loss/total_epoch:.2f}\",\n",
    "    monitor=\"loss/total_epoch\",\n",
    "    save_weights_only=True,\n",
    "    auto_insert_metric_name=False,\n",
    "    every_n_epochs=1,\n",
    ")\n",
    "\n",
    "tb_logger = TensorBoardLogger(save_dir=\"logs/abinet/\")\n",
    "\n",
    "trainer = L.Trainer(\n",
    "    precision=\"16-mixed\",\n",
    "    logger=tb_logger,\n",
    "    log_every_n_steps=log_every_n_steps,\n",
    "    callbacks=[checkpoint_callback],\n",
    "    max_epochs=20,\n",
    ")"
   ]
  },
  {
   "cell_type": "code",
   "execution_count": 9,
   "metadata": {},
   "outputs": [],
   "source": [
    "# DUMP MODEL CONFIG\n",
    "\n",
    "model.dump_config(checkpoint_callback.dirpath)"
   ]
  },
  {
   "cell_type": "code",
   "execution_count": null,
   "metadata": {},
   "outputs": [],
   "source": [
    "trainer.fit(\n",
    "    model,\n",
    "    datamodule=RecogTextDataModule(\n",
    "        train_datasets=[train_dataset],\n",
    "        eval_datasets=[test_dataset],\n",
    "        batch_size=batch_size,\n",
    "    ),\n",
    ")"
   ]
  },
  {
   "cell_type": "code",
   "execution_count": null,
   "metadata": {},
   "outputs": [],
   "source": [
    "!ls -lah \"./checkpoints/abinet\""
   ]
  }
 ],
 "metadata": {
  "kernelspec": {
   "display_name": "Python 3",
   "language": "python",
   "name": "python3"
  },
  "language_info": {
   "codemirror_mode": {
    "name": "ipython",
    "version": 3
   },
   "file_extension": ".py",
   "mimetype": "text/x-python",
   "name": "python",
   "nbconvert_exporter": "python",
   "pygments_lexer": "ipython3",
   "version": "3.10.12"
  }
 },
 "nbformat": 4,
 "nbformat_minor": 2
}
