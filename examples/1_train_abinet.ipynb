{
 "cells": [
  {
   "cell_type": "code",
   "execution_count": 1,
   "metadata": {},
   "outputs": [],
   "source": [
    "import sys\n",
    "\n",
    "sys.path.append(\"../\")"
   ]
  },
  {
   "cell_type": "code",
   "execution_count": 2,
   "metadata": {},
   "outputs": [
    {
     "name": "stderr",
     "output_type": "stream",
     "text": [
      "/home/mixaill76/.local/lib/python3.10/site-packages/tqdm/auto.py:21: TqdmWarning: IProgress not found. Please update jupyter and ipywidgets. See https://ipywidgets.readthedocs.io/en/stable/user_install.html\n",
      "  from .autonotebook import tqdm as notebook_tqdm\n",
      "/home/mixaill76/.local/lib/python3.10/site-packages/albumentations/__init__.py:24: UserWarning: A new version of Albumentations is available: '2.0.3' (you have '2.0.0'). Upgrade using: pip install -U albumentations. To disable automatic update checks, set the environment variable NO_ALBUMENTATIONS_UPDATE to 1.\n",
      "  check_for_updates()\n"
     ]
    }
   ],
   "source": [
    "import os\n",
    "import copy\n",
    "from lightning.pytorch.callbacks import ModelCheckpoint\n",
    "from lightning.pytorch.loggers import TensorBoardLogger\n",
    "from lightning_ocr.models import ABINetVision\n",
    "from lightning_ocr.datasets import RecogTextDataset, RecogTextDataModule\n",
    "from sklearn.model_selection import train_test_split\n",
    "import albumentations as A\n",
    "import lightning as L"
   ]
  },
  {
   "cell_type": "code",
   "execution_count": 3,
   "metadata": {},
   "outputs": [],
   "source": [
    "# ENV\n",
    "os.environ[\"TOKENIZERS_PARALLELISM\"] = \"true\"\n",
    "\n",
    "batch_size = 8\n",
    "\n",
    "config = {\n",
    "    \"max_seq_len\": 12,\n",
    "    \"tokenizer\": {\n",
    "        \"dict_list\": list(\"0123456789.\"),\n",
    "    },\n",
    "}"
   ]
  },
  {
   "cell_type": "code",
   "execution_count": 4,
   "metadata": {},
   "outputs": [],
   "source": [
    "# MODEL\n",
    "\n",
    "model = ABINetVision(config)"
   ]
  },
  {
   "cell_type": "code",
   "execution_count": 5,
   "metadata": {},
   "outputs": [],
   "source": [
    "# DATASETS\n",
    "\n",
    "train_dataset = RecogTextDataset(\n",
    "    data_root=\"./datasets/MNIST/\",\n",
    "    ann_file=\"ann_file.json\",\n",
    "    pipeline=model.load_train_pipeline(),\n",
    ")\n",
    "\n",
    "TRAIN, TEST = train_test_split(train_dataset.data_list, test_size=0.2, random_state=42)\n",
    "\n",
    "test_dataset = copy.deepcopy(train_dataset)\n",
    "test_dataset.data_list = TEST\n",
    "test_dataset.transform = A.Compose(model.load_test_pipeline())\n",
    "train_dataset.data_list = TRAIN"
   ]
  },
  {
   "cell_type": "code",
   "execution_count": 6,
   "metadata": {},
   "outputs": [
    {
     "name": "stderr",
     "output_type": "stream",
     "text": [
      "Using 16bit Automatic Mixed Precision (AMP)\n",
      "GPU available: True (cuda), used: True\n",
      "TPU available: False, using: 0 TPU cores\n",
      "HPU available: False, using: 0 HPUs\n"
     ]
    }
   ],
   "source": [
    "# CONFIG TRANER\n",
    "\n",
    "log_every_n_steps = 50\n",
    "if len(train_dataset) // batch_size < 50:\n",
    "    log_every_n_steps = 5\n",
    "\n",
    "checkpoint_callback = ModelCheckpoint(\n",
    "    dirpath=\"./checkpoints/abinet\",\n",
    "    filename=\"model-{epoch:02d}-loss-{loss/total_epoch:.2f}\",\n",
    "    monitor=\"loss/total_epoch\",\n",
    "    save_weights_only=True,\n",
    "    auto_insert_metric_name=False,\n",
    "    every_n_epochs=1,\n",
    ")\n",
    "\n",
    "tb_logger = TensorBoardLogger(save_dir=\"logs/abinet/\")\n",
    "\n",
    "trainer = L.Trainer(\n",
    "    precision=\"16-mixed\",\n",
    "    logger=tb_logger,\n",
    "    log_every_n_steps=log_every_n_steps,\n",
    "    callbacks=[checkpoint_callback],\n",
    "    max_epochs=20,\n",
    ")"
   ]
  },
  {
   "cell_type": "code",
   "execution_count": 7,
   "metadata": {},
   "outputs": [],
   "source": [
    "# DUMP MODEL CONFIG\n",
    "\n",
    "model.dump_config(checkpoint_callback.dirpath)"
   ]
  },
  {
   "cell_type": "code",
   "execution_count": 8,
   "metadata": {},
   "outputs": [
    {
     "name": "stderr",
     "output_type": "stream",
     "text": [
      "You are using a CUDA device ('NVIDIA GeForce RTX 3080 Ti') that has Tensor Cores. To properly utilize them, you should set `torch.set_float32_matmul_precision('medium' | 'high')` which will trade-off precision for performance. For more details, read https://pytorch.org/docs/stable/generated/torch.set_float32_matmul_precision.html#torch.set_float32_matmul_precision\n",
      "/home/mixaill76/.local/lib/python3.10/site-packages/lightning/pytorch/callbacks/model_checkpoint.py:654: Checkpoint directory /home/mixaill76/lightning_ocr/examples/checkpoints/abinet exists and is not empty.\n",
      "LOCAL_RANK: 0 - CUDA_VISIBLE_DEVICES: [0]\n",
      "\n",
      "  | Name     | Type             | Params | Mode \n",
      "------------------------------------------------------\n",
      "0 | backbone | ResNetABI        | 13.0 M | train\n",
      "1 | encoder  | ABIEncoder       | 9.5 M  | train\n",
      "2 | decoder  | ABIVisionDecoder | 1.1 M  | train\n",
      "------------------------------------------------------\n",
      "23.5 M    Trainable params\n",
      "0         Non-trainable params\n",
      "23.5 M    Total params\n",
      "94.145    Total estimated model params size (MB)\n",
      "238       Modules in train mode\n",
      "0         Modules in eval mode\n"
     ]
    },
    {
     "name": "stdout",
     "output_type": "stream",
     "text": [
      "Epoch 0:   0%|          | 5/1153 [00:00<02:02,  9.39it/s, v_num=2, loss/total_step=3.510, learning_rate=0.0001]"
     ]
    },
    {
     "name": "stderr",
     "output_type": "stream",
     "text": [
      "/home/mixaill76/.local/lib/python3.10/site-packages/torch/optim/lr_scheduler.py:224: UserWarning: Detected call of `lr_scheduler.step()` before `optimizer.step()`. In PyTorch 1.1.0 and later, you should call them in the opposite order: `optimizer.step()` before `lr_scheduler.step()`.  Failure to do this will result in PyTorch skipping the first value of the learning rate schedule. See more details at https://pytorch.org/docs/stable/optim.html#how-to-adjust-learning-rate\n",
      "  warnings.warn(\n"
     ]
    },
    {
     "name": "stdout",
     "output_type": "stream",
     "text": [
      "Epoch 19: 100%|██████████| 1153/1153 [01:05<00:00, 17.50it/s, v_num=2, loss/total_step=0.209, learning_rate=1e-7, loss/total_epoch=0.141]      "
     ]
    },
    {
     "name": "stderr",
     "output_type": "stream",
     "text": [
      "`Trainer.fit` stopped: `max_epochs=20` reached.\n"
     ]
    },
    {
     "name": "stdout",
     "output_type": "stream",
     "text": [
      "Epoch 19: 100%|██████████| 1153/1153 [01:05<00:00, 17.50it/s, v_num=2, loss/total_step=0.209, learning_rate=1e-7, loss/total_epoch=0.141]\n"
     ]
    }
   ],
   "source": [
    "trainer.fit(\n",
    "    model,\n",
    "    datamodule=RecogTextDataModule(\n",
    "        train_datasets=[train_dataset],\n",
    "        eval_datasets=[test_dataset],\n",
    "        batch_size=batch_size,\n",
    "    ),\n",
    ")"
   ]
  },
  {
   "cell_type": "code",
   "execution_count": 9,
   "metadata": {},
   "outputs": [
    {
     "name": "stdout",
     "output_type": "stream",
     "text": [
      "total 182M\n",
      "drwxr-xr-x 2 mixaill76 mixaill76 4.0K Feb 11 16:46 .\n",
      "drwxr-xr-x 3 mixaill76 mixaill76 4.0K Jan 11 23:20 ..\n",
      "-rw-r--r-- 1 mixaill76 mixaill76  288 Feb 11 16:26 base_config.json\n",
      "-rw-r--r-- 1 mixaill76 mixaill76  91M Jan 11 23:26 model-04-loss-0.17.ckpt\n",
      "-rw------- 1 mixaill76 mixaill76  91M Feb 11 16:46 model-18-loss-0.14.ckpt\n",
      "-rw-r--r-- 1 mixaill76 mixaill76  351 Feb 11 16:26 preprocessor_config.json\n",
      "-rw-r--r-- 1 mixaill76 mixaill76   99 Feb 11 16:26 special_tokens_map.json\n",
      "-rw-r--r-- 1 mixaill76 mixaill76 1.6K Feb 11 16:26 tokenizer.json\n",
      "-rw-r--r-- 1 mixaill76 mixaill76 1.1K Feb 11 16:26 tokenizer_config.json\n",
      "-rw-r--r-- 1 mixaill76 mixaill76  141 Feb 11 16:26 vocab.json\n"
     ]
    }
   ],
   "source": [
    "!ls -lah \"./checkpoints/abinet\""
   ]
  }
 ],
 "metadata": {
  "kernelspec": {
   "display_name": "Python 3",
   "language": "python",
   "name": "python3"
  },
  "language_info": {
   "codemirror_mode": {
    "name": "ipython",
    "version": 3
   },
   "file_extension": ".py",
   "mimetype": "text/x-python",
   "name": "python",
   "nbconvert_exporter": "python",
   "pygments_lexer": "ipython3",
   "version": "3.10.12"
  }
 },
 "nbformat": 4,
 "nbformat_minor": 2
}
