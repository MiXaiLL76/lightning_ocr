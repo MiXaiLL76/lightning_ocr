{
 "cells": [
  {
   "cell_type": "code",
   "execution_count": 1,
   "metadata": {},
   "outputs": [],
   "source": [
    "import sys\n",
    "sys.path.append(\"../\")"
   ]
  },
  {
   "cell_type": "code",
   "execution_count": 10,
   "metadata": {},
   "outputs": [],
   "source": [
    "import os\n",
    "import copy\n",
    "from lightning.pytorch.callbacks import ModelCheckpoint\n",
    "from lightning.pytorch.loggers import TensorBoardLogger\n",
    "from lightning_ocr.models import ABINetVision\n",
    "from lightning_ocr.datasets import RecogTextDataset, RecogTextDataModule\n",
    "from sklearn.model_selection import train_test_split\n",
    "import albumentations as A\n",
    "import lightning as L"
   ]
  },
  {
   "cell_type": "code",
   "execution_count": 7,
   "metadata": {},
   "outputs": [],
   "source": [
    "# ENV\n",
    "os.environ[\"TOKENIZERS_PARALLELISM\"] = \"true\"\n",
    "\n",
    "batch_size = 8\n",
    "\n",
    "config = {\n",
    "    \"max_seq_len\": 12,\n",
    "    \"tokenizer\": {\n",
    "        \"dict_list\": list(\"0123456789.\"),\n",
    "    },\n",
    "}"
   ]
  },
  {
   "cell_type": "code",
   "execution_count": 4,
   "metadata": {},
   "outputs": [],
   "source": [
    "# MODEL\n",
    "\n",
    "model = ABINetVision(config)"
   ]
  },
  {
   "cell_type": "code",
   "execution_count": 5,
   "metadata": {},
   "outputs": [],
   "source": [
    "# DATASETS\n",
    "\n",
    "train_dataset = RecogTextDataset(\n",
    "    data_root=\"./datasets/MNIST/\",\n",
    "    ann_file=\"ann_file.json\",\n",
    "    pipeline=model.load_train_pipeline(),\n",
    ")\n",
    "\n",
    "TRAIN, TEST = train_test_split(\n",
    "    train_dataset.data_list, test_size=0.2, random_state=42\n",
    ")\n",
    "\n",
    "test_dataset = copy.deepcopy(train_dataset)\n",
    "test_dataset.data_list = TEST\n",
    "test_dataset.transform = A.Compose(model.load_test_pipeline())\n",
    "train_dataset.data_list = TRAIN"
   ]
  },
  {
   "cell_type": "code",
   "execution_count": 8,
   "metadata": {},
   "outputs": [
    {
     "name": "stderr",
     "output_type": "stream",
     "text": [
      "Using 16bit Automatic Mixed Precision (AMP)\n",
      "/home/mixaill76/.local/lib/python3.10/site-packages/lightning/pytorch/plugins/precision/amp.py:54: `torch.cuda.amp.GradScaler(args...)` is deprecated. Please use `torch.amp.GradScaler('cuda', args...)` instead.\n",
      "GPU available: True (cuda), used: True\n",
      "TPU available: False, using: 0 TPU cores\n",
      "IPU available: False, using: 0 IPUs\n",
      "HPU available: False, using: 0 HPUs\n"
     ]
    }
   ],
   "source": [
    "# CONFIG TRANER\n",
    "\n",
    "log_every_n_steps = 50\n",
    "if len(train_dataset) // batch_size < 50:\n",
    "    log_every_n_steps = 5\n",
    "\n",
    "checkpoint_callback = ModelCheckpoint(\n",
    "    dirpath=\"./checkpoints/abinet\",\n",
    "    filename=\"model-{epoch:02d}-loss-{loss/total_epoch:.2f}\",\n",
    "    monitor=\"loss/total_epoch\",\n",
    "    save_weights_only=True,\n",
    "    auto_insert_metric_name=False,\n",
    "    every_n_epochs=1,\n",
    ")\n",
    "\n",
    "tb_logger = TensorBoardLogger(save_dir=\"logs/abinet/\")\n",
    "\n",
    "trainer = L.Trainer(\n",
    "    precision=\"16-mixed\",\n",
    "    logger=tb_logger,\n",
    "    log_every_n_steps=log_every_n_steps,\n",
    "    callbacks=[checkpoint_callback],\n",
    "    max_epochs=20,\n",
    ")"
   ]
  },
  {
   "cell_type": "code",
   "execution_count": 9,
   "metadata": {},
   "outputs": [],
   "source": [
    "# DUMP MODEL CONFIG \n",
    "\n",
    "model.dump_config(checkpoint_callback.dirpath)"
   ]
  },
  {
   "cell_type": "code",
   "execution_count": 11,
   "metadata": {},
   "outputs": [
    {
     "name": "stderr",
     "output_type": "stream",
     "text": [
      "You are using a CUDA device ('NVIDIA GeForce RTX 3080 Ti') that has Tensor Cores. To properly utilize them, you should set `torch.set_float32_matmul_precision('medium' | 'high')` which will trade-off precision for performance. For more details, read https://pytorch.org/docs/stable/generated/torch.set_float32_matmul_precision.html#torch.set_float32_matmul_precision\n",
      "Missing logger folder: logs/abinet/lightning_logs\n",
      "/home/mixaill76/.local/lib/python3.10/site-packages/lightning/pytorch/callbacks/model_checkpoint.py:639: Checkpoint directory ./checkpoints/abinet exists and is not empty.\n",
      "LOCAL_RANK: 0 - CUDA_VISIBLE_DEVICES: [0]\n",
      "\n",
      "  | Name     | Type             | Params\n",
      "----------------------------------------------\n",
      "0 | backbone | ResNetABI        | 13.0 M\n",
      "1 | encoder  | ABIEncoder       | 9.5 M \n",
      "2 | decoder  | ABIVisionDecoder | 1.1 M \n",
      "----------------------------------------------\n",
      "23.5 M    Trainable params\n",
      "0         Non-trainable params\n",
      "23.5 M    Total params\n",
      "94.145    Total estimated model params size (MB)\n"
     ]
    },
    {
     "data": {
      "application/vnd.jupyter.widget-view+json": {
       "model_id": "22a9252cdca544bea036a803285b3d57",
       "version_major": 2,
       "version_minor": 0
      },
      "text/plain": [
       "Sanity Checking: |          | 0/? [00:00<?, ?it/s]"
      ]
     },
     "metadata": {},
     "output_type": "display_data"
    },
    {
     "data": {
      "application/vnd.jupyter.widget-view+json": {
       "model_id": "21dc1001dc02416fb4600784d28a09af",
       "version_major": 2,
       "version_minor": 0
      },
      "text/plain": [
       "Training: |          | 0/? [00:00<?, ?it/s]"
      ]
     },
     "metadata": {},
     "output_type": "display_data"
    },
    {
     "data": {
      "application/vnd.jupyter.widget-view+json": {
       "model_id": "bc8deb7ec38d44b5b9e382f74be0b178",
       "version_major": 2,
       "version_minor": 0
      },
      "text/plain": [
       "Validation: |          | 0/? [00:00<?, ?it/s]"
      ]
     },
     "metadata": {},
     "output_type": "display_data"
    },
    {
     "data": {
      "application/vnd.jupyter.widget-view+json": {
       "model_id": "5f482e7d975d414b98e37472b3b626bf",
       "version_major": 2,
       "version_minor": 0
      },
      "text/plain": [
       "Validation: |          | 0/? [00:00<?, ?it/s]"
      ]
     },
     "metadata": {},
     "output_type": "display_data"
    },
    {
     "data": {
      "application/vnd.jupyter.widget-view+json": {
       "model_id": "a101c50efaa44d068e25c7e428f956ee",
       "version_major": 2,
       "version_minor": 0
      },
      "text/plain": [
       "Validation: |          | 0/? [00:00<?, ?it/s]"
      ]
     },
     "metadata": {},
     "output_type": "display_data"
    },
    {
     "data": {
      "application/vnd.jupyter.widget-view+json": {
       "model_id": "47549bf78c784f4fbb814a9a74a7b534",
       "version_major": 2,
       "version_minor": 0
      },
      "text/plain": [
       "Validation: |          | 0/? [00:00<?, ?it/s]"
      ]
     },
     "metadata": {},
     "output_type": "display_data"
    },
    {
     "data": {
      "application/vnd.jupyter.widget-view+json": {
       "model_id": "c672953b638344808d2a62f99d0d9c38",
       "version_major": 2,
       "version_minor": 0
      },
      "text/plain": [
       "Validation: |          | 0/? [00:00<?, ?it/s]"
      ]
     },
     "metadata": {},
     "output_type": "display_data"
    },
    {
     "data": {
      "application/vnd.jupyter.widget-view+json": {
       "model_id": "5925e2e8341746f2b33954d95fffd18b",
       "version_major": 2,
       "version_minor": 0
      },
      "text/plain": [
       "Validation: |          | 0/? [00:00<?, ?it/s]"
      ]
     },
     "metadata": {},
     "output_type": "display_data"
    },
    {
     "name": "stderr",
     "output_type": "stream",
     "text": [
      "/home/mixaill76/.local/lib/python3.10/site-packages/lightning/pytorch/trainer/call.py:54: Detected KeyboardInterrupt, attempting graceful shutdown...\n"
     ]
    }
   ],
   "source": [
    "trainer.fit(\n",
    "    model,\n",
    "    datamodule=RecogTextDataModule(\n",
    "        train_datasets=[train_dataset],\n",
    "        eval_datasets=[test_dataset],\n",
    "        batch_size=batch_size,\n",
    "    ),\n",
    ")"
   ]
  },
  {
   "cell_type": "code",
   "execution_count": 12,
   "metadata": {},
   "outputs": [
    {
     "name": "stdout",
     "output_type": "stream",
     "text": [
      "total 91M\n",
      "drwxr-xr-x 2 mixaill76 mixaill76 4.0K Jan 11 23:26 .\n",
      "drwxr-xr-x 3 mixaill76 mixaill76 4.0K Jan 11 23:20 ..\n",
      "-rw-r--r-- 1 mixaill76 mixaill76  288 Jan 11 23:20 base_config.json\n",
      "-rw-r--r-- 1 mixaill76 mixaill76  91M Jan 11 23:26 model-04-loss-0.17.ckpt\n"
     ]
    }
   ],
   "source": [
    "!ls -lah \"./checkpoints/abinet\""
   ]
  }
 ],
 "metadata": {
  "kernelspec": {
   "display_name": "Python 3",
   "language": "python",
   "name": "python3"
  },
  "language_info": {
   "codemirror_mode": {
    "name": "ipython",
    "version": 3
   },
   "file_extension": ".py",
   "mimetype": "text/x-python",
   "name": "python",
   "nbconvert_exporter": "python",
   "pygments_lexer": "ipython3",
   "version": "3.10.12"
  }
 },
 "nbformat": 4,
 "nbformat_minor": 2
}
